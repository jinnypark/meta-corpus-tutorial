{
 "cells": [
  {
   "cell_type": "markdown",
   "id": "large-communication",
   "metadata": {},
   "source": [
    "# Parsing and Analyzing Meta Corpus Data with Music21\n",
    "\n",
    "This is a companion tutorial for analyzing meta corpus data from my dissertation, \"Diatonic Chord Loops in Post-millennial Pop,\" with Music21.\n",
    "\n",
    "This is an interactive \"notebook\" where you can run the code on this page as you follow along.\n",
    "\n",
    "## What is Music21, and why should I use it?\n",
    "\n",
    "As noted on the [Music21 website](https://www.music21.org/music21docs/about/what.html#what-is-music21):\n",
    "\n",
    "> Music21 is a Python-based toolkit for computer-aided musicology.\n",
    "\n",
    "> People use music21 to answer questions from musicology using computers, to study large datasets of music, to generate musical examples, to teach fundamentals of music theory, to edit musical notation, study music and the brain, and to compose music (both algorithmically and directly).\n",
    "\n",
    "Music21 is a Python library that allows you to parse and analyze music data of different formats (e.g., MIDI, MusicXML, humdrum, etc.).  \n",
    "One of the data formats Music21 can read in is de Clercq & Temperley's (2011) Billboard Rock Corpus encoding format, which meta corpus data encoding system is built."
   ]
  },
  {
   "cell_type": "markdown",
   "id": "7d8a9bd1",
   "metadata": {},
   "source": [
    "## What do I need to get started?\n",
    "\n",
    "You will need a computer with the following installed:\n",
    "\n",
    "- music21\n",
    "- Python\n",
    "- Musescore (for generating scores from parsed meta corpus data)\n",
    "\n",
    "Check out the installation guide for each operating system and recommendations, here: https://www.music21.org/music21docs/usersGuide/usersGuide_01_installing.html\n",
    "\n",
    "If you are new to coding and working with Python, I highly recommend going through the first few chapters of these tutorials first. \n",
    "\n",
    "- https://www.music21.org/music21docs/usersGuide/usersGuide_01_installing.html#\n",
    "- https://www.linewaves.org/"
   ]
  },
  {
   "cell_type": "markdown",
   "id": "65b985ef",
   "metadata": {},
   "source": [
    "## Importing different music data formats with Music21\n",
    "\n",
    "A main reason I chose music21 for working with data is because of its flexibility in reading different varieties of data formats. Once the data is parsed and loaded to music21, it can be operated and manipulated like any other music21 object, harnessing the analytical power of music21. Moreover, music21 object can be exported into desired formatting, including MIDI, PDF score in Western staff notation, and more. \n",
    "\n",
    "For more information about parsing and converting different data formats with music21, jump over to this guide: https://www.music21.org/music21docs/usersGuide/usersGuide_08_installingMusicXML.html\n",
    "\n",
    "### music21.romanText.clercqTemperley\n",
    "\n",
    "In this tutorial, we will use the module `music21.romanText.clercqTemperley` to read in and parse our meta corpus data.\n",
    "\n",
    "Read more about this module here:\n",
    "\n",
    "https://www.music21.org/music21docs/moduleReference/moduleRomanTextClercqTemperley.html"
   ]
  },
  {
   "cell_type": "markdown",
   "id": "f06b1293",
   "metadata": {},
   "source": [
    "## Importing meta pop corpus data\n",
    "\n",
    "To begin, create a Python file in the editor of your choice and add the following lines:"
   ]
  },
  {
   "cell_type": "code",
   "execution_count": null,
   "id": "downtown-africa",
   "metadata": {},
   "outputs": [],
   "source": [
    "from music21 import *\n",
    "import os"
   ]
  },
  {
   "cell_type": "markdown",
   "id": "85df5657",
   "metadata": {},
   "source": [
    "I have a folder `/meta-pop-corpus` which contains transcriptions of the songs I want to analyze. \n",
    "\n",
    "\n"
   ]
  },
  {
   "cell_type": "code",
   "execution_count": null,
   "id": "60c0513c",
   "metadata": {},
   "outputs": [],
   "source": [
    "path = os.getcwd() + \"/meta-pop-corpus/\"\n",
    "print(path)\n",
    "# Check what files I have in the current diectory, and add to a list of files\n",
    "pathList = []\n",
    "fileList = []\n",
    "\n",
    "## This can be avoided by creating a local corpus"
   ]
  },
  {
   "cell_type": "markdown",
   "id": "fleet-occasion",
   "metadata": {},
   "source": [
    "With `music21.romanText.clercqTemperley` module, Music21 can read condensed .har text files and expand it into a readable score form. This can help us to see what the real 'key' is regardless of each transcriber's bias towards tonic. \n",
    "\n",
    "Meta corpus is encoded in tonic-agnostic way, but this module requires Roman numeral labelling. To work with this requirement, meta corpus data can be encoded in tonic-agnostic Roman numerals. The \"key\" specified withithin square brakets simply indicate key signature, regardless of the song's suggested centricities (or lack thereof).\n",
    "\n",
    "This is how meta corpus data for \"Get Lucky\" translated into Roman numerals look like.\n",
    "\n",
    "```\n",
    "% get lucky\n",
    "\n",
    "a: ii | IV | vi | V | %only one chord loop throughout\n",
    "In: $a*4\n",
    "Vr: $a*2\n",
    "PCh: $a*2     %pre chorus \n",
    "Ch: $a*2\n",
    "PostCh: $a    % post chorus\n",
    "Instr: $a     %instrumental\n",
    "Br: $a*5  %bridge\n",
    "PostCh_long: $a*4\n",
    "Outro: $a*6\n",
    "\n",
    "S: [A] $In $Vr $PCh $Ch $PostCh $Instr $Vr $PCh $Ch $PostCh $Ch $PostCh $Ch $PostCh $Br $PCh $Ch $PostCh_long $Outro\n",
    "```\n",
    "\n",
    "Now, let's read \"Get Lucky\" into music21 and view them as a score."
   ]
  },
  {
   "cell_type": "code",
   "execution_count": null,
   "id": "comfortable-glossary",
   "metadata": {},
   "outputs": [],
   "source": [
    "## Read in Get Lucky file into music21\n",
    "getLucky = path + \"get_lucky.har\"\n",
    "print(getLucky)\n",
    "loadedSong = open(getLucky).read()\n",
    "\n",
    "## Convert the .har file using the module\n",
    "\n",
    "data = romanText.clercqTemperley.CTSong(loadedSong)\n",
    "\n",
    "## Convert the loaded Get Lucky data into a score, and display it \n",
    "## (open via notation software of your choice, e.g., musescore).\n",
    "\n",
    "song_score = data.toScore()\n",
    "song_score.show()"
   ]
  },
  {
   "cell_type": "markdown",
   "id": "purple-amendment",
   "metadata": {},
   "source": [
    "### Analyzing Meta Corpus data with music21\n",
    "\n",
    "Now that our data is loaded to music21, we can utilize many analytical tools music21 provides. With the aid of the computer, answering questions related to counting is very quick and easy.\n",
    "\n",
    "#### Counting pitches\n",
    "\n"
   ]
  },
  {
   "cell_type": "code",
   "execution_count": null,
   "id": "collective-deputy",
   "metadata": {},
   "outputs": [],
   "source": [
    "for rule in data.rules:\n",
    "    print(data.rules[rule].LHS)\n",
    "    print(data.rules[rule].musicText)\n",
    "    "
   ]
  },
  {
   "cell_type": "markdown",
   "id": "regulation-sense",
   "metadata": {},
   "source": [
    "if LHS == \"S\", it is indicating overall form of the song.\n",
    "We want to extract repeated segments of the chord progression (chord-loop, or chord-loop schema) so we can identify patterns. Usual N-grams often go over the boundaries of the hypermetrical structure (often across formal sections) which may lead us to biased results. "
   ]
  },
  {
   "cell_type": "markdown",
   "id": "native-lightweight",
   "metadata": {},
   "source": [
    "In both versions, D# is rarely used (bVII = D Major). Sometimes G# becomes G-natural too. (bIII)\n",
    "If we looked at overall pitch distribution, we can put more effective key signature of AM (or even DM). \n"
   ]
  },
  {
   "cell_type": "markdown",
   "id": "frequent-metro",
   "metadata": {},
   "source": [
    "Look for chord data only:"
   ]
  },
  {
   "cell_type": "code",
   "execution_count": null,
   "id": "brief-investor",
   "metadata": {},
   "outputs": [],
   "source": []
  },
  {
   "cell_type": "code",
   "execution_count": null,
   "id": "outer-little",
   "metadata": {},
   "outputs": [],
   "source": [
    "## Look for all chord progressions encoded in the text file and create a dictionary of them.\n",
    "chord_loop = {}\n",
    "chord_loop_repeats = {}\n",
    "counter = -1\n",
    "\n",
    "for rule in data.rules:\n",
    "    current_rule = data.rules[rule].musicText # just the text portion\n",
    "    print(\"current rule is: \", current_rule)\n",
    "    if \"|\" in data.rules[rule].musicText:\n",
    "        chord_prog = data.rules[rule].musicText\n",
    "        chord_prog_var = data.rules[rule].LHS\n",
    "        chord_loop.update({chord_prog: chord_prog_var})\n",
    "        counter = counter + 1\n",
    "        \n",
    "### IF the variable in chord_loop dictionary (\"a\") \n",
    "### exists in the rule in the musicText portion (data.rules[rule].musicText), \n",
    "    ## Check if chord loop variable exists in a dictionary and save the value\n",
    "    #chord_loop_value = chord_loop.get(data.rules[rule].musicText)\n",
    "    \n",
    "    #chord_loop_value_index = current_rule.index(chord_loop_value)\n",
    "    #print(chord_loop_value_index)\n",
    "\n",
    "    ### REDO THIS SECTION###\n",
    "    #\n",
    "    \n",
    "    else:\n",
    "        current_chord_loop_dict_item = list(chord_loop.values())[counter]\n",
    "        print(\"Current chord loop dict item is: \",current_chord_loop_dict_item)\n",
    "        print(\"current rule without chords transcription is: \", current_rule)\n",
    "        if current_chord_loop_dict_item in current_rule:\n",
    "            print('we found it:', current_rule)\n",
    "            print('the position of \"*\" is: ', current_rule.index(\"*\"))\n",
    "            pos_of_repeats = current_rule.index(\"*\") + 1\n",
    "            print('the position of repeats is: ', pos_of_repeats)\n",
    "            print(\"current chord loop, \", current_chord_loop_dict_item, \"repeats \", current_rule[pos_of_repeats], \"times\")\n",
    "\n",
    "#        if \"*\" in data.rules[rule].musicText:\n",
    "### Extract the integers in that rule in .musicText portion using index() method (e.g., i = data.rules[rule].musicText.index(\"*\") + 1)\n",
    "#            repeat_sign_index = data.rules[rule].musicText.index(\"*\")\n",
    "#            print(data.rules[rule].musicText[repeat_sign_index])\n",
    "        \n",
    "\n",
    "#    print(\"counter is: \", counter)\n",
    "#    print(\"answer to the key is:\" ,chord_loop.get(data.rules[rule].musicText))\n",
    "\n",
    "#    print(\"The position of '*' is: \", data.rules[rule].musicText.index(\"*\"))\n",
    "#    print(\"num of repeats is: \", list(chord_loop.keys())[counter])\n",
    "#    print(\"end of for loop\")\n",
    "\n",
    "              #    if \"*\" in data.rules[rule].musicText.index(\"*\"): \n",
    "### IF the variable in chord_loop dictionary (\"a\") \n",
    "### exists in the rule in the musicText portion (data.rules[rule].musicText), \n",
    "### Extract the integers in that rule in .musicText portion using index() method (e.g., i = data.rules[rule].musicText.index(\"*\") + 1)\n",
    "\n",
    "#    if chord_loop.get(data.rules[rule].LHS) == list(chord_loop.keys())[counter]:\n",
    "#        print(yay)\n",
    "#    if (chord_loop[data.rules[rule].LHS] in data.rules[rule].musicText) and (\"*\" in data.rules[rule].musicText):\n",
    "#        repeats = data.rules[rule].musicText.index(\"*\") \n",
    "#        print(data.rules[rule].LHS, repeats)        \n",
    "#    counter = counter + 1\n",
    "#        chord_loop_repeats.update({chord_prog})\n",
    "#print(chord_loop)\n",
    "#    if rule in chord_loop:\n",
    "        \n",
    "#    print(chord_loop)\n",
    "        \n",
    "#print(chord_loop)\n",
    "\n",
    "#for rule in data.rules:\n",
    "#    if \n",
    "\n",
    "#for rule in data.rules:\n",
    "#    if data.rules[rule].LHS in chord_loop:\n",
    "#        print(chord_loop[data.rules[rule].LHS, \"repeats \", chord_loop[data.rules[rule].]])\n"
   ]
  },
  {
   "cell_type": "code",
   "execution_count": null,
   "id": "spread-testing",
   "metadata": {},
   "outputs": [],
   "source": [
    "## How many times does each chord appear in a song?\n",
    "\n",
    "#for rule in data.rules:\n",
    "#    if \"*\" in data.rules[\"s\"]: \n",
    "#        print(rule[\"s\"])\n",
    "\n",
    "data.rules[\"S\"]\n",
    "## Check if repetitions are specified in the formal section itself:\n",
    "\n",
    "if \"*\" in data.rules[\"S\"].musicText:\n",
    "    print(data.rules[\"S\"].musicText)\n",
    "\n",
    "    \n"
   ]
  },
  {
   "cell_type": "code",
   "execution_count": null,
   "id": "clear-bearing",
   "metadata": {},
   "outputs": [],
   "source": [
    "for rule in data.rules:\n",
    "    print(data.rules[rule].parent.expandExpansionContent)\n",
    "\n"
   ]
  },
  {
   "cell_type": "code",
   "execution_count": null,
   "id": "selected-huntington",
   "metadata": {},
   "outputs": [],
   "source": [
    "for rule in data.rules:\n",
    "    if \"|\" in data.rules[rule].musicText:\n",
    "        print(data.rules[rule].musicText)\n",
    "    \n"
   ]
  },
  {
   "cell_type": "code",
   "execution_count": null,
   "id": "impossible-roommate",
   "metadata": {},
   "outputs": [],
   "source": [
    "for rule in data.rules:\n",
    "    if \"|\" in data.rules[rule].musicText:\n",
    "        print(data.rules[rule].musicText)\n",
    "    \n"
   ]
  },
  {
   "cell_type": "markdown",
   "id": "stopped-cache",
   "metadata": {},
   "source": [
    "** TO DO **\n",
    "- Roman numerals are misleading: Grab the 'real' chord label (\n",
    "  "
   ]
  }
 ],
 "metadata": {
  "kernelspec": {
   "display_name": "Python 3",
   "language": "python",
   "name": "python3"
  },
  "language_info": {
   "codemirror_mode": {
    "name": "ipython",
    "version": 3
   },
   "file_extension": ".py",
   "mimetype": "text/x-python",
   "name": "python",
   "nbconvert_exporter": "python",
   "pygments_lexer": "ipython3",
   "version": "3.9.20"
  }
 },
 "nbformat": 4,
 "nbformat_minor": 5
}
